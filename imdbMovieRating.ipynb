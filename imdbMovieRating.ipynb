{
 "cells": [
  {
   "cell_type": "code",
   "execution_count": 9,
   "metadata": {},
   "outputs": [
    {
     "name": "stdin",
     "output_type": "stream",
     "text": [
      "Enter the movie name whose rating you want : \n",
      " Satyan\n"
     ]
    },
    {
     "name": "stdout",
     "output_type": "stream",
     "text": [
      "List Of movies with there id's\n",
      "14914988 Satyanarayan Ki Katha\n",
      "10902596 Satyanweshi Byomkesh\n",
      "3083962 Satyanweshi\n",
      "0254757 Satyaniki Sankellu\n",
      "0255618 Satyanarayana Vratam\n",
      "0195231 Satya\n",
      "5338620 Satyavati\n",
      "10739666 Satyameva Jayate 2\n",
      "3059106 Satya 2\n",
      "0085178 Ardh Satya\n",
      "4596814 S/O Satyamurthy\n",
      "12993206 Latyan\n",
      "0244776 Satyakam\n",
      "8202612 Satyameva Jayate\n",
      "0456643 Satyam\n",
      "2275802 Satyagraha\n",
      "2360717 Satyamev Jayate\n",
      "16292898 Bullet Satyam\n",
      "0234658 Satya Harishchandra\n",
      "10014504 Beauty and the Geek - Croatia\n"
     ]
    },
    {
     "name": "stdin",
     "output_type": "stream",
     "text": [
      "Enter the movie code-:   0244776\n"
     ]
    },
    {
     "name": "stdout",
     "output_type": "stream",
     "text": [
      "Rating for the Movie is : 8.2\n"
     ]
    }
   ],
   "source": [
    "#importing the required module\n",
    "import imdb\n",
    "\n",
    "#function defination\n",
    "def fetchRatings():\n",
    "    #creating the intance variable\n",
    "    task=imdb.IMDb()\n",
    "    #user inputing movie name\n",
    "    getMoviename=input(\"Enter the movie name whose rating you want : \\n\")\n",
    "    #extracting the list of movies relevent to user input\n",
    "    releventMovies=task.search_movie(getMoviename)\n",
    "    #printing the list of relvent movies with there id's\n",
    "    print(\"List Of movies with there id's\")\n",
    "    for movieName in releventMovies:\n",
    "        print(movieName.movieID, movieName)\n",
    "    #getting the movie code from user\n",
    "    getMovieCode=input(\"Enter the movie code-:  \")\n",
    "    #scrapping the movie data in the from dictonary\n",
    "    scrapMovieData=task.get_movie(getMovieCode)\n",
    "    #printing the rating\n",
    "    print(\"Rating for the Movie is :\",scrapMovieData.data['rating'])\n",
    "\n",
    "#calling the method\n",
    "fetchRatings()"
   ]
  },
  {
   "cell_type": "code",
   "execution_count": null,
   "metadata": {},
   "outputs": [],
   "source": []
  }
 ],
 "metadata": {
  "kernelspec": {
   "display_name": "Python 3",
   "language": "python",
   "name": "python3"
  },
  "language_info": {
   "codemirror_mode": {
    "name": "ipython",
    "version": 3
   },
   "file_extension": ".py",
   "mimetype": "text/x-python",
   "name": "python",
   "nbconvert_exporter": "python",
   "pygments_lexer": "ipython3",
   "version": "3.7.6"
  }
 },
 "nbformat": 4,
 "nbformat_minor": 4
}
